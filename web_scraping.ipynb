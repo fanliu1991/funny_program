{
 "cells": [
  {
   "cell_type": "code",
   "execution_count": 1,
   "metadata": {},
   "outputs": [],
   "source": [
    "#!/usr/bin/env python\n",
    "# -*- coding: utf-8 -*-"
   ]
  },
  {
   "cell_type": "code",
   "execution_count": 2,
   "metadata": {},
   "outputs": [],
   "source": [
    "# Perform web scraping using Python 3 and the BeautifulSoup library\n",
    "# We'll be scraping weather forecasts from the National Weather Service site,\n",
    "# and then analyzing them using the Pandas library.\n",
    "\n",
    "# HTML — contain the main content of the page.\n",
    "# CSS — add styling to make the page look nicer.\n",
    "# JS — Javascript files add interactivity to web pages.\n",
    "# Images — image formats, such as JPG and PNG allow web pages to show pictures.\n",
    "\n",
    "# When we perform web scraping, we're interested in the main content of the web page, so we look at the HTML"
   ]
  },
  {
   "cell_type": "code",
   "execution_count": 11,
   "metadata": {},
   "outputs": [],
   "source": [
    "import requests\n",
    "from bs4 import BeautifulSoup\n",
    "import pandas as pd\n",
    "import re"
   ]
  },
  {
   "cell_type": "code",
   "execution_count": 2,
   "metadata": {},
   "outputs": [
    {
     "data": {
      "text/plain": [
       "<Response [200]>"
      ]
     },
     "execution_count": 2,
     "metadata": {},
     "output_type": "execute_result"
    }
   ],
   "source": [
    "# We can download pages using the Python requests library. \n",
    "# The requests library will make a GET request to a web server, which will download the HTML contents of a given web page for us. \n",
    "# There are several different types of requests we can make using requests, of which GET is just one. \n",
    "page = requests.get(\"http://dataquestio.github.io/web-scraping-pages/simple.html\")\n",
    "page"
   ]
  },
  {
   "cell_type": "code",
   "execution_count": 10,
   "metadata": {},
   "outputs": [
    {
     "data": {
      "text/plain": [
       "200"
      ]
     },
     "execution_count": 10,
     "metadata": {},
     "output_type": "execute_result"
    }
   ],
   "source": [
    "# We get a Response object. \n",
    "# This object has a status_code property, which indicates if the page was downloaded successfully.\n",
    "page.status_code\n",
    "\n",
    "# A status_code of 200 means that the page downloaded successfully. \n",
    "# Status code starting with a 2 generally indicates success, and a code starting with a 4 or a 5 indicates an error."
   ]
  },
  {
   "cell_type": "code",
   "execution_count": 11,
   "metadata": {},
   "outputs": [
    {
     "data": {
      "text/plain": [
       "'<!DOCTYPE html>\\n<html>\\n    <head>\\n        <title>A simple example page</title>\\n    </head>\\n    <body>\\n        <p>Here is some simple content for this page.</p>\\n    </body>\\n</html>'"
      ]
     },
     "execution_count": 11,
     "metadata": {},
     "output_type": "execute_result"
    }
   ],
   "source": [
    "# Print out the HTML content of the page using the content property.\n",
    "page.content\n"
   ]
  },
  {
   "cell_type": "code",
   "execution_count": 12,
   "metadata": {},
   "outputs": [
    {
     "name": "stdout",
     "output_type": "stream",
     "text": [
      "<!DOCTYPE html>\n",
      "<html>\n",
      " <head>\n",
      "  <title>\n",
      "   A simple example page\n",
      "  </title>\n",
      " </head>\n",
      " <body>\n",
      "  <p>\n",
      "   Here is some simple content for this page.\n",
      "  </p>\n",
      " </body>\n",
      "</html>\n"
     ]
    }
   ],
   "source": [
    "# We can use the BeautifulSoup library to parse this document, and extract the text from the p tag:\n",
    "soup = BeautifulSoup(page.content, 'html.parser')\n",
    "\n",
    "# We can now print out the HTML content of the page, formatted nicely\n",
    "print(soup.prettify())"
   ]
  },
  {
   "cell_type": "code",
   "execution_count": 19,
   "metadata": {
    "scrolled": true
   },
   "outputs": [
    {
     "name": "stdout",
     "output_type": "stream",
     "text": [
      "3\n",
      "[u'html', u'\\n', <html>\\n<head>\\n<title>A simple example page</title>\\n</head>\\n<body>\\n<p>Here is some simple content for this page.</p>\\n</body>\\n</html>]\n"
     ]
    }
   ],
   "source": [
    "# First select all the elements at the top level of the page using the children property of soup. \n",
    "# soup.children returns a list generator, so we need to call the list function on it:\n",
    "soup_children = list(soup.children)\n",
    "print(len(soup_children))\n",
    "print(soup_children)\n",
    "\n",
    "# There are two tags at the top level of the page \n",
    "# -- the initial <!DOCTYPE html> tag, and the <html> tag. There is a newline character (\\n) in the list as well. \n",
    "# The type of each element in the list is:\n",
    "soup_children_type = [type(item) for item in list(soup.children)]\n",
    "print(soup_children_type)\n",
    "\n",
    "# All of the items are BeautifulSoup objects. \n",
    "# The first is a Doctype object, which contains information about the type of the document. \n",
    "# The second is a NavigableString, which represents text found in the HTML document. \n",
    "# The final item is a Tag object, which contains other nested tags. \n",
    "\n",
    "# The most important object type, and the one we'll deal with most often, is the Tag object.\n",
    "# The Tag object allows us to navigate through an HTML document, and extract other tags and text\n",
    "html = list(soup.children)[-1]\n",
    "\n",
    "# We can find the children inside the html tag:\n",
    "print(list(html.children))\n",
    "\n",
    "\n",
    "# There are two tags here, head, and body. We want to extract the text inside the p tag\n",
    "body = list(html.children)[3]\n",
    "\n",
    "# Get the p tag by finding the children of the body tag:\n",
    "print(list(body.children))\n",
    "\n",
    "# Isolate the p tag:\n",
    "p = list(body.children)[1]\n",
    "\n",
    "# Use the get_text method to extract all of the text inside the tag:\n",
    "print(p.get_text())\n"
   ]
  },
  {
   "cell_type": "code",
   "execution_count": 8,
   "metadata": {},
   "outputs": [
    {
     "name": "stdout",
     "output_type": "stream",
     "text": [
      "[<p class=\"inner-text first-item\" id=\"first\">\\n                First paragraph.\\n            </p>, <p class=\"inner-text\">\\n                Second paragraph.\\n            </p>, <p class=\"outer-text first-item\" id=\"second\">\\n<b>\\n                First outer paragraph.\\n            </b>\\n</p>, <p class=\"outer-text\">\\n<b>\\n                Second outer paragraph.\\n            </b>\\n</p>]\n",
      "\n",
      "                First paragraph.\n",
      "            \n",
      "<p class=\"inner-text first-item\" id=\"first\">\n",
      "                First paragraph.\n",
      "            </p>\n",
      "<html>\n",
      " <head>\n",
      "  <title>\n",
      "   A simple example page\n",
      "  </title>\n",
      " </head>\n",
      " <body>\n",
      "  <div>\n",
      "   <p class=\"inner-text first-item\" id=\"first\">\n",
      "    First paragraph.\n",
      "   </p>\n",
      "   <p class=\"inner-text\">\n",
      "    Second paragraph.\n",
      "   </p>\n",
      "  </div>\n",
      "  <p class=\"outer-text first-item\" id=\"second\">\n",
      "   <b>\n",
      "    First outer paragraph.\n",
      "   </b>\n",
      "  </p>\n",
      "  <p class=\"outer-text\">\n",
      "   <b>\n",
      "    Second outer paragraph.\n",
      "   </b>\n",
      "  </p>\n",
      " </body>\n",
      "</html>\n",
      "[<p class=\"outer-text first-item\" id=\"second\">\\n<b>\\n                First outer paragraph.\\n            </b>\\n</p>, <p class=\"outer-text\">\\n<b>\\n                Second outer paragraph.\\n            </b>\\n</p>]\n",
      "[<p class=\"outer-text first-item\" id=\"second\">\\n<b>\\n                First outer paragraph.\\n            </b>\\n</p>, <p class=\"outer-text\">\\n<b>\\n                Second outer paragraph.\\n            </b>\\n</p>]\n",
      "[<p class=\"inner-text first-item\" id=\"first\">\\n                First paragraph.\\n            </p>]\n",
      "[<p class=\"inner-text first-item\" id=\"first\">\\n                First paragraph.\\n            </p>, <p class=\"inner-text\">\\n                Second paragraph.\\n            </p>]\n"
     ]
    }
   ],
   "source": [
    "# Finding all instances of a tag at once\n",
    "# Use the find_all method, which will find all the instances of a tag on a page.\n",
    "print(soup.find_all('p'))\n",
    "print(soup.find_all('p')[0].get_text())\n",
    "\n",
    "# Use the find method to find the first instance of a tag, which will return a single BeautifulSoup object:\n",
    "print(soup.find('p'))\n",
    "\n",
    "# Searching for tags by class and id\n",
    "page = requests.get(\"http://dataquestio.github.io/web-scraping-pages/ids_and_classes.html\")\n",
    "soup = BeautifulSoup(page.content, 'html.parser')\n",
    "print(soup.prettify())\n",
    "\n",
    "# Use the find_all method to search for items by class or by id\n",
    "find_p_class = soup.find_all('p', class_='outer-text')\n",
    "print(find_p_class)\n",
    "\n",
    "find_class = soup.find_all(class_=\"outer-text\")\n",
    "print(find_class)\n",
    "\n",
    "find_id = soup.find_all(id=\"first\")\n",
    "print(find_id)\n",
    "\n",
    "# Use CSS selectors to find all the p tags in page that are inside of a div\n",
    "p_div = soup.select(\"div p\")\n",
    "print(p_div)"
   ]
  },
  {
   "cell_type": "code",
   "execution_count": 4,
   "metadata": {},
   "outputs": [
    {
     "name": "stdout",
     "output_type": "stream",
     "text": [
      "<div class=\"tombstone-container\">\n",
      " <p class=\"period-name\">\n",
      "  Tonight\n",
      "  <br/>\n",
      "  <br/>\n",
      " </p>\n",
      " <p>\n",
      "  <img alt=\"Tonight: Partly cloudy, with a low around 52. West southwest wind 11 to 18 mph, with gusts as high as 24 mph. \" class=\"forecast-icon\" src=\"newimages/medium/nsct.png\" title=\"Tonight: Partly cloudy, with a low around 52. West southwest wind 11 to 18 mph, with gusts as high as 24 mph. \"/>\n",
      " </p>\n",
      " <p class=\"short-desc\">\n",
      "  Partly Cloudy\n",
      " </p>\n",
      " <p class=\"temp temp-low\">\n",
      "  Low: 52 °F\n",
      " </p>\n",
      "</div>\n"
     ]
    }
   ],
   "source": [
    "# Downloading weather data\n",
    "page = requests.get(\"http://forecast.weather.gov/MapClick.php?lat=37.7772&lon=-122.4168\")\n",
    "soup = BeautifulSoup(page.content, 'html.parser')\n",
    "seven_day = soup.find(id=\"seven-day-forecast\")\n",
    "forecast_items = seven_day.find_all(class_=\"tombstone-container\")\n",
    "tonight = forecast_items[0]\n",
    "print(tonight.prettify())\n"
   ]
  },
  {
   "cell_type": "code",
   "execution_count": 5,
   "metadata": {},
   "outputs": [
    {
     "name": "stdout",
     "output_type": "stream",
     "text": [
      "Tonight\n",
      "Partly Cloudy\n",
      "Low: 52 °F\n"
     ]
    }
   ],
   "source": [
    "# Extracting information from the page\n",
    "period = tonight.find(class_=\"period-name\").get_text()\n",
    "short_desc = tonight.find(class_=\"short-desc\").get_text()\n",
    "temp = tonight.find(class_=\"temp\").get_text()\n",
    "\n",
    "print(period)\n",
    "print(short_desc)\n",
    "print(temp)"
   ]
  },
  {
   "cell_type": "code",
   "execution_count": 6,
   "metadata": {},
   "outputs": [
    {
     "name": "stdout",
     "output_type": "stream",
     "text": [
      "<img alt=\"Tonight: Partly cloudy, with a low around 52. West southwest wind 11 to 18 mph, with gusts as high as 24 mph. \" class=\"forecast-icon\" src=\"newimages/medium/nsct.png\" title=\"Tonight: Partly cloudy, with a low around 52. West southwest wind 11 to 18 mph, with gusts as high as 24 mph. \"/>\n",
      "Tonight: Partly cloudy, with a low around 52. West southwest wind 11 to 18 mph, with gusts as high as 24 mph. \n"
     ]
    }
   ],
   "source": [
    "# Extract the title attribute from the img tag\n",
    "# To do this, just treat the BeautifulSoup object like a dictionary, and pass in the attribute we want as a key:\n",
    "img = tonight.find(\"img\")\n",
    "desc = img['title']\n",
    "\n",
    "print(img)\n",
    "print(desc)"
   ]
  },
  {
   "cell_type": "code",
   "execution_count": 7,
   "metadata": {},
   "outputs": [
    {
     "name": "stdout",
     "output_type": "stream",
     "text": [
      "[u'Tonight', u'Tuesday', u'TuesdayNight', u'Wednesday', u'WednesdayNight', u'Thursday', u'ThursdayNight', u'Friday', u'FridayNight']\n"
     ]
    }
   ],
   "source": [
    "# Extracting all the information from the page\n",
    "period_tags = seven_day.select(\".tombstone-container .period-name\")\n",
    "periods = [pt.get_text() for pt in period_tags]\n",
    "print periods\n"
   ]
  },
  {
   "cell_type": "code",
   "execution_count": 8,
   "metadata": {},
   "outputs": [
    {
     "name": "stdout",
     "output_type": "stream",
     "text": [
      "[u'Partly Cloudy', u'Mostly Sunny', u'Partly Cloudy', u'Mostly Sunny', u'Mostly Cloudy', u'Partly Sunny', u'Partly Cloudy', u'Mostly Sunny', u'Partly Cloudy']\n",
      "[u'Low: 52 \\xb0F', u'High: 67 \\xb0F', u'Low: 52 \\xb0F', u'High: 66 \\xb0F', u'Low: 51 \\xb0F', u'High: 63 \\xb0F', u'Low: 51 \\xb0F', u'High: 61 \\xb0F', u'Low: 51 \\xb0F']\n",
      "[u'Tonight: Partly cloudy, with a low around 52. West southwest wind 11 to 18 mph, with gusts as high as 24 mph. ', u'Tuesday: Mostly sunny, with a high near 67. West southwest wind 10 to 17 mph, with gusts as high as 23 mph. ', u'Tuesday Night: Partly cloudy, with a low around 52. West wind 8 to 18 mph, with gusts as high as 24 mph. ', u'Wednesday: Mostly sunny, with a high near 66. West southwest wind 9 to 16 mph, with gusts as high as 21 mph. ', u'Wednesday Night: Mostly cloudy, with a low around 51. West wind 10 to 16 mph, with gusts as high as 21 mph. ', u'Thursday: Partly sunny, with a high near 63.', u'Thursday Night: Partly cloudy, with a low around 51.', u'Friday: Mostly sunny, with a high near 61.', u'Friday Night: Partly cloudy, with a low around 51.']\n"
     ]
    }
   ],
   "source": [
    "short_descs = [sd.get_text() for sd in seven_day.select(\".tombstone-container .short-desc\")]\n",
    "temps = [t.get_text() for t in seven_day.select(\".tombstone-container .temp\")]\n",
    "descs = [d[\"title\"] for d in seven_day.select(\".tombstone-container img\")]\n",
    "\n",
    "print(short_descs)\n",
    "print(temps)\n",
    "print(descs)"
   ]
  },
  {
   "cell_type": "code",
   "execution_count": 21,
   "metadata": {},
   "outputs": [
    {
     "name": "stdout",
     "output_type": "stream",
     "text": [
      "High: 65 °F\n"
     ]
    }
   ],
   "source": [
    "print temps[3]"
   ]
  },
  {
   "cell_type": "code",
   "execution_count": 10,
   "metadata": {},
   "outputs": [
    {
     "data": {
      "text/html": [
       "<div>\n",
       "<style scoped>\n",
       "    .dataframe tbody tr th:only-of-type {\n",
       "        vertical-align: middle;\n",
       "    }\n",
       "\n",
       "    .dataframe tbody tr th {\n",
       "        vertical-align: top;\n",
       "    }\n",
       "\n",
       "    .dataframe thead th {\n",
       "        text-align: right;\n",
       "    }\n",
       "</style>\n",
       "<table border=\"1\" class=\"dataframe\">\n",
       "  <thead>\n",
       "    <tr style=\"text-align: right;\">\n",
       "      <th></th>\n",
       "      <th>desc</th>\n",
       "      <th>period</th>\n",
       "      <th>short_desc</th>\n",
       "      <th>temp</th>\n",
       "    </tr>\n",
       "  </thead>\n",
       "  <tbody>\n",
       "    <tr>\n",
       "      <th>0</th>\n",
       "      <td>Tonight: Partly cloudy, with a low around 52. ...</td>\n",
       "      <td>Tonight</td>\n",
       "      <td>Partly Cloudy</td>\n",
       "      <td>Low: 52 °F</td>\n",
       "    </tr>\n",
       "    <tr>\n",
       "      <th>1</th>\n",
       "      <td>Tuesday: Mostly sunny, with a high near 67. We...</td>\n",
       "      <td>Tuesday</td>\n",
       "      <td>Mostly Sunny</td>\n",
       "      <td>High: 67 °F</td>\n",
       "    </tr>\n",
       "    <tr>\n",
       "      <th>2</th>\n",
       "      <td>Tuesday Night: Partly cloudy, with a low aroun...</td>\n",
       "      <td>TuesdayNight</td>\n",
       "      <td>Partly Cloudy</td>\n",
       "      <td>Low: 52 °F</td>\n",
       "    </tr>\n",
       "    <tr>\n",
       "      <th>3</th>\n",
       "      <td>Wednesday: Mostly sunny, with a high near 66. ...</td>\n",
       "      <td>Wednesday</td>\n",
       "      <td>Mostly Sunny</td>\n",
       "      <td>High: 66 °F</td>\n",
       "    </tr>\n",
       "    <tr>\n",
       "      <th>4</th>\n",
       "      <td>Wednesday Night: Mostly cloudy, with a low aro...</td>\n",
       "      <td>WednesdayNight</td>\n",
       "      <td>Mostly Cloudy</td>\n",
       "      <td>Low: 51 °F</td>\n",
       "    </tr>\n",
       "    <tr>\n",
       "      <th>5</th>\n",
       "      <td>Thursday: Partly sunny, with a high near 63.</td>\n",
       "      <td>Thursday</td>\n",
       "      <td>Partly Sunny</td>\n",
       "      <td>High: 63 °F</td>\n",
       "    </tr>\n",
       "    <tr>\n",
       "      <th>6</th>\n",
       "      <td>Thursday Night: Partly cloudy, with a low arou...</td>\n",
       "      <td>ThursdayNight</td>\n",
       "      <td>Partly Cloudy</td>\n",
       "      <td>Low: 51 °F</td>\n",
       "    </tr>\n",
       "    <tr>\n",
       "      <th>7</th>\n",
       "      <td>Friday: Mostly sunny, with a high near 61.</td>\n",
       "      <td>Friday</td>\n",
       "      <td>Mostly Sunny</td>\n",
       "      <td>High: 61 °F</td>\n",
       "    </tr>\n",
       "    <tr>\n",
       "      <th>8</th>\n",
       "      <td>Friday Night: Partly cloudy, with a low around...</td>\n",
       "      <td>FridayNight</td>\n",
       "      <td>Partly Cloudy</td>\n",
       "      <td>Low: 51 °F</td>\n",
       "    </tr>\n",
       "  </tbody>\n",
       "</table>\n",
       "</div>"
      ],
      "text/plain": [
       "                                                desc          period  \\\n",
       "0  Tonight: Partly cloudy, with a low around 52. ...         Tonight   \n",
       "1  Tuesday: Mostly sunny, with a high near 67. We...         Tuesday   \n",
       "2  Tuesday Night: Partly cloudy, with a low aroun...    TuesdayNight   \n",
       "3  Wednesday: Mostly sunny, with a high near 66. ...       Wednesday   \n",
       "4  Wednesday Night: Mostly cloudy, with a low aro...  WednesdayNight   \n",
       "5       Thursday: Partly sunny, with a high near 63.        Thursday   \n",
       "6  Thursday Night: Partly cloudy, with a low arou...   ThursdayNight   \n",
       "7         Friday: Mostly sunny, with a high near 61.          Friday   \n",
       "8  Friday Night: Partly cloudy, with a low around...     FridayNight   \n",
       "\n",
       "      short_desc         temp  \n",
       "0  Partly Cloudy   Low: 52 °F  \n",
       "1   Mostly Sunny  High: 67 °F  \n",
       "2  Partly Cloudy   Low: 52 °F  \n",
       "3   Mostly Sunny  High: 66 °F  \n",
       "4  Mostly Cloudy   Low: 51 °F  \n",
       "5   Partly Sunny  High: 63 °F  \n",
       "6  Partly Cloudy   Low: 51 °F  \n",
       "7   Mostly Sunny  High: 61 °F  \n",
       "8  Partly Cloudy   Low: 51 °F  "
      ]
     },
     "execution_count": 10,
     "metadata": {},
     "output_type": "execute_result"
    }
   ],
   "source": [
    "# Combining data into a Pandas Dataframe\n",
    "weather = pd.DataFrame({\n",
    "        \"period\": periods, \n",
    "        \"short_desc\": short_descs, \n",
    "        \"temp\": temps, \n",
    "        \"desc\":descs\n",
    "    })\n",
    "weather"
   ]
  },
  {
   "cell_type": "code",
   "execution_count": 19,
   "metadata": {},
   "outputs": [],
   "source": [
    "# use regular expression to pull out the numeric temperature values\n",
    "'''\n",
    "Series.str can be used to access the values of the series as strings and apply several methods to it. \n",
    "These can be accessed like Series.str.<function/property>.\n",
    "\n",
    "https://pandas.pydata.org/pandas-docs/stable/api.html#string-handling\n",
    "'''\n",
    "temp_nums = weather[\"temp\"].str.extract(\"(?P<temp_num>\\d+)\", expand=False)\n",
    "weather[\"temp_num\"] = temp_nums.astype('int')\n",
    "weather"
   ]
  },
  {
   "cell_type": "code",
   "execution_count": 22,
   "metadata": {},
   "outputs": [
    {
     "data": {
      "text/plain": [
       "57.111111111111114"
      ]
     },
     "execution_count": 22,
     "metadata": {},
     "output_type": "execute_result"
    }
   ],
   "source": [
    "# Find the mean of all the high and low temperatures:\n",
    "weather[\"temp_num\"].mean()"
   ]
  },
  {
   "cell_type": "code",
   "execution_count": 30,
   "metadata": {},
   "outputs": [
    {
     "data": {
      "text/html": [
       "<div>\n",
       "<style scoped>\n",
       "    .dataframe tbody tr th:only-of-type {\n",
       "        vertical-align: middle;\n",
       "    }\n",
       "\n",
       "    .dataframe tbody tr th {\n",
       "        vertical-align: top;\n",
       "    }\n",
       "\n",
       "    .dataframe thead th {\n",
       "        text-align: right;\n",
       "    }\n",
       "</style>\n",
       "<table border=\"1\" class=\"dataframe\">\n",
       "  <thead>\n",
       "    <tr style=\"text-align: right;\">\n",
       "      <th></th>\n",
       "      <th>desc</th>\n",
       "      <th>period</th>\n",
       "      <th>short_desc</th>\n",
       "      <th>temp</th>\n",
       "      <th>temp_num</th>\n",
       "      <th>is_night</th>\n",
       "    </tr>\n",
       "  </thead>\n",
       "  <tbody>\n",
       "    <tr>\n",
       "      <th>0</th>\n",
       "      <td>Tonight: Partly cloudy, with a low around 52. ...</td>\n",
       "      <td>Tonight</td>\n",
       "      <td>Partly Cloudy</td>\n",
       "      <td>Low: 52 °F</td>\n",
       "      <td>52</td>\n",
       "      <td>True</td>\n",
       "    </tr>\n",
       "    <tr>\n",
       "      <th>1</th>\n",
       "      <td>Tuesday: Mostly sunny, with a high near 67. We...</td>\n",
       "      <td>Tuesday</td>\n",
       "      <td>Mostly Sunny</td>\n",
       "      <td>High: 67 °F</td>\n",
       "      <td>67</td>\n",
       "      <td>False</td>\n",
       "    </tr>\n",
       "    <tr>\n",
       "      <th>2</th>\n",
       "      <td>Tuesday Night: Partly cloudy, with a low aroun...</td>\n",
       "      <td>TuesdayNight</td>\n",
       "      <td>Partly Cloudy</td>\n",
       "      <td>Low: 52 °F</td>\n",
       "      <td>52</td>\n",
       "      <td>True</td>\n",
       "    </tr>\n",
       "    <tr>\n",
       "      <th>3</th>\n",
       "      <td>Wednesday: Mostly sunny, with a high near 66. ...</td>\n",
       "      <td>Wednesday</td>\n",
       "      <td>Mostly Sunny</td>\n",
       "      <td>High: 66 °F</td>\n",
       "      <td>66</td>\n",
       "      <td>False</td>\n",
       "    </tr>\n",
       "    <tr>\n",
       "      <th>4</th>\n",
       "      <td>Wednesday Night: Mostly cloudy, with a low aro...</td>\n",
       "      <td>WednesdayNight</td>\n",
       "      <td>Mostly Cloudy</td>\n",
       "      <td>Low: 51 °F</td>\n",
       "      <td>51</td>\n",
       "      <td>True</td>\n",
       "    </tr>\n",
       "    <tr>\n",
       "      <th>5</th>\n",
       "      <td>Thursday: Partly sunny, with a high near 63.</td>\n",
       "      <td>Thursday</td>\n",
       "      <td>Partly Sunny</td>\n",
       "      <td>High: 63 °F</td>\n",
       "      <td>63</td>\n",
       "      <td>False</td>\n",
       "    </tr>\n",
       "    <tr>\n",
       "      <th>6</th>\n",
       "      <td>Thursday Night: Partly cloudy, with a low arou...</td>\n",
       "      <td>ThursdayNight</td>\n",
       "      <td>Partly Cloudy</td>\n",
       "      <td>Low: 51 °F</td>\n",
       "      <td>51</td>\n",
       "      <td>True</td>\n",
       "    </tr>\n",
       "    <tr>\n",
       "      <th>7</th>\n",
       "      <td>Friday: Mostly sunny, with a high near 61.</td>\n",
       "      <td>Friday</td>\n",
       "      <td>Mostly Sunny</td>\n",
       "      <td>High: 61 °F</td>\n",
       "      <td>61</td>\n",
       "      <td>False</td>\n",
       "    </tr>\n",
       "    <tr>\n",
       "      <th>8</th>\n",
       "      <td>Friday Night: Partly cloudy, with a low around...</td>\n",
       "      <td>FridayNight</td>\n",
       "      <td>Partly Cloudy</td>\n",
       "      <td>Low: 51 °F</td>\n",
       "      <td>51</td>\n",
       "      <td>True</td>\n",
       "    </tr>\n",
       "  </tbody>\n",
       "</table>\n",
       "</div>"
      ],
      "text/plain": [
       "                                                desc          period  \\\n",
       "0  Tonight: Partly cloudy, with a low around 52. ...         Tonight   \n",
       "1  Tuesday: Mostly sunny, with a high near 67. We...         Tuesday   \n",
       "2  Tuesday Night: Partly cloudy, with a low aroun...    TuesdayNight   \n",
       "3  Wednesday: Mostly sunny, with a high near 66. ...       Wednesday   \n",
       "4  Wednesday Night: Mostly cloudy, with a low aro...  WednesdayNight   \n",
       "5       Thursday: Partly sunny, with a high near 63.        Thursday   \n",
       "6  Thursday Night: Partly cloudy, with a low arou...   ThursdayNight   \n",
       "7         Friday: Mostly sunny, with a high near 61.          Friday   \n",
       "8  Friday Night: Partly cloudy, with a low around...     FridayNight   \n",
       "\n",
       "      short_desc         temp  temp_num  is_night  \n",
       "0  Partly Cloudy   Low: 52 °F        52      True  \n",
       "1   Mostly Sunny  High: 67 °F        67     False  \n",
       "2  Partly Cloudy   Low: 52 °F        52      True  \n",
       "3   Mostly Sunny  High: 66 °F        66     False  \n",
       "4  Mostly Cloudy   Low: 51 °F        51      True  \n",
       "5   Partly Sunny  High: 63 °F        63     False  \n",
       "6  Partly Cloudy   Low: 51 °F        51      True  \n",
       "7   Mostly Sunny  High: 61 °F        61     False  \n",
       "8  Partly Cloudy   Low: 51 °F        51      True  "
      ]
     },
     "execution_count": 30,
     "metadata": {},
     "output_type": "execute_result"
    }
   ],
   "source": [
    "# Only select the rows that happen at night:\n",
    "is_night = weather[\"period\"].str.lower().str.contains(\"night\")\n",
    "weather[\"is_night\"] = is_night\n",
    "weather"
   ]
  },
  {
   "cell_type": "code",
   "execution_count": null,
   "metadata": {},
   "outputs": [],
   "source": []
  }
 ],
 "metadata": {
  "kernelspec": {
   "display_name": "Python 2",
   "language": "python",
   "name": "python2"
  },
  "language_info": {
   "codemirror_mode": {
    "name": "ipython",
    "version": 2
   },
   "file_extension": ".py",
   "mimetype": "text/x-python",
   "name": "python",
   "nbconvert_exporter": "python",
   "pygments_lexer": "ipython2",
   "version": "2.7.12"
  }
 },
 "nbformat": 4,
 "nbformat_minor": 2
}
